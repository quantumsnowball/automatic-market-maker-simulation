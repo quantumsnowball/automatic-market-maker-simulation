{
 "cells": [
  {
   "cell_type": "markdown",
   "metadata": {},
   "source": [
    "# Curves for AMMs"
   ]
  },
  {
   "cell_type": "markdown",
   "metadata": {},
   "source": [
    "# AMM Curve Plot"
   ]
  },
  {
   "cell_type": "code",
   "execution_count": 1,
   "metadata": {},
   "outputs": [],
   "source": [
    "import numpy as np\n",
    "import matplotlib.pyplot as plt\n",
    "from models import ConstantProductInvariant"
   ]
  },
  {
   "cell_type": "markdown",
   "metadata": {},
   "source": [
    "## Constant Product Invariant Curve\n",
    "\n",
    "This curve has been used to price Uniswap V2 for non-stable pairs.\n",
    "\n",
    "```x*y = k```\n",
    "\n",
    "After each trade, the product of the number of two coins remain the same.\n",
    "\n",
    "The price is the ratio of the number of the two coins."
   ]
  },
  {
   "cell_type": "code",
   "execution_count": 2,
   "metadata": {},
   "outputs": [],
   "source": [
    "cpi_model = ConstantProductInvariant('BTC-ETH', 1494, 23220)"
   ]
  },
  {
   "cell_type": "code",
   "execution_count": 3,
   "metadata": {},
   "outputs": [],
   "source": [
    "k = cpi_model.k\n",
    "func = lambda x: k/x"
   ]
  },
  {
   "cell_type": "code",
   "execution_count": 4,
   "metadata": {},
   "outputs": [],
   "source": [
    "# X - BTC amount\n",
    "# Y - ETH amount\n",
    "X = np.arange(1494*0.2, 1494*5, 0.1)\n",
    "Y = func(X)"
   ]
  },
  {
   "cell_type": "code",
   "execution_count": 5,
   "metadata": {},
   "outputs": [
    {
     "data": {
      "text/plain": [
       "[<matplotlib.lines.Line2D at 0x7f90e0407850>]"
      ]
     },
     "execution_count": 5,
     "metadata": {},
     "output_type": "execute_result"
    },
    {
     "data": {
      "image/png": "[encoded data removed]",
      "text/plain": [
       "<Figure size 432x288 with 1 Axes>"
      ]
     },
     "metadata": {
      "needs_background": "light"
     },
     "output_type": "display_data"
    }
   ],
   "source": [
    "plt.plot(X, Y)"
   ]
  },
  {
   "cell_type": "markdown",
   "metadata": {},
   "source": [
    "If the trade represent a large portion of assets in the pool, the slippage cost is high."
   ]
  }
 ],
 "metadata": {
  "interpreter": {
   "hash": "e97f466643e7188629113eafe2c604b9752233aff171d2fa9b1cfcc11b99207c"
  },
  "kernelspec": {
   "display_name": "Python 3.9.7 64-bit ('automatic-market-maker-simulation-aKNi6Ka4': pipenv)",
   "name": "python3"
  },
  "language_info": {
   "codemirror_mode": {
    "name": "ipython",
    "version": 3
   },
   "file_extension": ".py",
   "mimetype": "text/x-python",
   "name": "python",
   "nbconvert_exporter": "python",
   "pygments_lexer": "ipython3",
   "version": "3.9.7"
  },
  "orig_nbformat": 4
 },
 "nbformat": 4,
 "nbformat_minor": 2
}
