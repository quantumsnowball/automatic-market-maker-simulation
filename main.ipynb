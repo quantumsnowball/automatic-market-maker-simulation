{
 "cells": [
  {
   "cell_type": "code",
   "execution_count": 1,
   "metadata": {},
   "outputs": [],
   "source": [
    "from models import ConstantProductInvariant\n"
   ]
  },
  {
   "cell_type": "code",
   "execution_count": 2,
   "metadata": {},
   "outputs": [
    {
     "name": "stdout",
     "output_type": "stream",
     "text": [
      "BTC-ETH\n"
     ]
    }
   ],
   "source": [
    "amm = ConstantProductInvariant('BTC-ETH', 1494, 23220)\n",
    "print(amm.name)\n"
   ]
  },
  {
   "cell_type": "code",
   "execution_count": 3,
   "metadata": {},
   "outputs": [
    {
     "name": "stdout",
     "output_type": "stream",
     "text": [
      "old price: 15.542168674698795\n"
     ]
    }
   ],
   "source": [
    "print(f'old price: {amm.price}')\n"
   ]
  },
  {
   "cell_type": "code",
   "execution_count": 4,
   "metadata": {},
   "outputs": [],
   "source": [
    "def test_trade(direction):\n",
    "    for x in [.01, .1, 1, 10, 100, 1000]:\n",
    "        x *= direction\n",
    "        qt = amm.quote(x)\n",
    "        print((f'You can {\"sell\" if x>0 else \"buy\" } '\n",
    "               f'{abs(x): >5} BTC for {abs(x*qt[\"price\"]):11,.2f} ETH, '\n",
    "               f'price = {qt[\"price\"]:6.2f}, '\n",
    "               f'slippage = {qt[\"slippage\"]:9.3%}'))\n",
    "\n",
    "def test_sell():\n",
    "    test_trade(+1)\n",
    "\n",
    "def test_buy():\n",
    "    test_trade(-1)"
   ]
  },
  {
   "cell_type": "code",
   "execution_count": 5,
   "metadata": {},
   "outputs": [
    {
     "data": {
      "text/plain": [
       "(1494, 23220)"
      ]
     },
     "execution_count": 5,
     "metadata": {},
     "output_type": "execute_result"
    }
   ],
   "source": [
    "amm.pool"
   ]
  },
  {
   "cell_type": "code",
   "execution_count": 6,
   "metadata": {},
   "outputs": [
    {
     "name": "stdout",
     "output_type": "stream",
     "text": [
      "You can sell  0.01 BTC for        0.16 ETH, price =  15.54, slippage =    0.001%\n",
      "You can sell   0.1 BTC for        1.55 ETH, price =  15.54, slippage =    0.013%\n",
      "You can sell     1 BTC for       15.52 ETH, price =  15.52, slippage =    0.134%\n",
      "You can sell    10 BTC for      153.36 ETH, price =  15.34, slippage =    1.325%\n",
      "You can sell   100 BTC for    1,365.33 ETH, price =  13.65, slippage =   12.153%\n",
      "You can sell  1000 BTC for    5,577.25 ETH, price =   5.58, slippage =   64.115%\n"
     ]
    }
   ],
   "source": [
    "test_sell()"
   ]
  },
  {
   "cell_type": "code",
   "execution_count": 7,
   "metadata": {},
   "outputs": [],
   "source": [
    "amm.sell(100)"
   ]
  },
  {
   "cell_type": "code",
   "execution_count": 8,
   "metadata": {},
   "outputs": [
    {
     "data": {
      "text/plain": [
       "(1594, 21763.287327478043)"
      ]
     },
     "execution_count": 8,
     "metadata": {},
     "output_type": "execute_result"
    }
   ],
   "source": [
    "amm.pool"
   ]
  },
  {
   "cell_type": "code",
   "execution_count": 9,
   "metadata": {},
   "outputs": [],
   "source": [
    "# add 10 times more liquidity to the pool\n",
    "amm.provide_liquidity(14940, 232200)"
   ]
  },
  {
   "cell_type": "code",
   "execution_count": 10,
   "metadata": {},
   "outputs": [
    {
     "name": "stdout",
     "output_type": "stream",
     "text": [
      "You can buy  0.01 BTC for        0.15 ETH, price =  15.36, slippage =    0.000%\n",
      "You can buy   0.1 BTC for        1.54 ETH, price =  15.36, slippage =    0.001%\n",
      "You can buy     1 BTC for       15.36 ETH, price =  15.36, slippage =    0.012%\n",
      "You can buy    10 BTC for      153.79 ETH, price =  15.38, slippage =    0.121%\n",
      "You can buy   100 BTC for    1,554.76 ETH, price =  15.55, slippage =    1.221%\n",
      "You can buy  1000 BTC for   17,401.32 ETH, price =  17.40, slippage =   13.289%\n"
     ]
    }
   ],
   "source": [
    "test_buy()"
   ]
  }
 ],
 "metadata": {
  "interpreter": {
   "hash": "e97f466643e7188629113eafe2c604b9752233aff171d2fa9b1cfcc11b99207c"
  },
  "kernelspec": {
   "display_name": "Python 3.9.7 64-bit ('automatic-market-maker-simulation-aKNi6Ka4': pipenv)",
   "name": "python3"
  },
  "language_info": {
   "codemirror_mode": {
    "name": "ipython",
    "version": 3
   },
   "file_extension": ".py",
   "mimetype": "text/x-python",
   "name": "python",
   "nbconvert_exporter": "python",
   "pygments_lexer": "ipython3",
   "version": "3.9.7"
  },
  "orig_nbformat": 4
 },
 "nbformat": 4,
 "nbformat_minor": 2
}
